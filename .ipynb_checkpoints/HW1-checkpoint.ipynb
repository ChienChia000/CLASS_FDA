{
 "cells": [
  {
   "cell_type": "markdown",
   "metadata": {},
   "source": [
    "# FDA Homework 1\n",
    "---"
   ]
  },
  {
   "cell_type": "markdown",
   "metadata": {},
   "source": [
    "# Part 1\n",
    "---"
   ]
  },
  {
   "cell_type": "markdown",
   "metadata": {},
   "source": [
    "### import library"
   ]
  },
  {
   "cell_type": "code",
   "execution_count": 2,
   "metadata": {},
   "outputs": [],
   "source": [
    "import pandas as pd\n",
    "import matplotlib.pyplot as plt\n",
    "import seaborn as sns\n",
    "import numpy as np"
   ]
  },
  {
   "cell_type": "markdown",
   "metadata": {},
   "source": [
    "### load dataset"
   ]
  },
  {
   "cell_type": "code",
   "execution_count": 3,
   "metadata": {},
   "outputs": [],
   "source": [
    "pd_data=pd.read_csv(u'./Reviews.csv')\n",
    "pd_data=pd_data[:10000]"
   ]
  },
  {
   "cell_type": "markdown",
   "metadata": {},
   "source": [
    "## 1. Top-10 Reviewer"
   ]
  },
  {
   "cell_type": "code",
   "execution_count": 24,
   "metadata": {},
   "outputs": [
    {
     "data": {
      "text/html": [
       "<div>\n",
       "<style scoped>\n",
       "    .dataframe tbody tr th:only-of-type {\n",
       "        vertical-align: middle;\n",
       "    }\n",
       "\n",
       "    .dataframe tbody tr th {\n",
       "        vertical-align: top;\n",
       "    }\n",
       "\n",
       "    .dataframe thead th {\n",
       "        text-align: right;\n",
       "    }\n",
       "</style>\n",
       "<table border=\"1\" class=\"dataframe\">\n",
       "  <thead>\n",
       "    <tr style=\"text-align: right;\">\n",
       "      <th></th>\n",
       "      <th>UserId</th>\n",
       "      <th>ProfileName</th>\n",
       "      <th>Score count</th>\n",
       "      <th>Score mean</th>\n",
       "    </tr>\n",
       "  </thead>\n",
       "  <tbody>\n",
       "    <tr>\n",
       "      <th>2330</th>\n",
       "      <td>A1Z54EM24Y40LL</td>\n",
       "      <td>c2</td>\n",
       "      <td>17</td>\n",
       "      <td>3.882353</td>\n",
       "    </tr>\n",
       "    <tr>\n",
       "      <th>4286</th>\n",
       "      <td>A2SZLNSI5KOQJT</td>\n",
       "      <td>Carrie, \"Formerly &amp;#34;Sister Carrie&amp;#34;\"</td>\n",
       "      <td>10</td>\n",
       "      <td>3.800000</td>\n",
       "    </tr>\n",
       "    <tr>\n",
       "      <th>5169</th>\n",
       "      <td>A35R32TA60XD57</td>\n",
       "      <td>M. Torma</td>\n",
       "      <td>9</td>\n",
       "      <td>4.111111</td>\n",
       "    </tr>\n",
       "    <tr>\n",
       "      <th>2919</th>\n",
       "      <td>A281NPSIMI1C2R</td>\n",
       "      <td>Rebecca of Amazon \"The Rebecca Review\"</td>\n",
       "      <td>8</td>\n",
       "      <td>5.000000</td>\n",
       "    </tr>\n",
       "    <tr>\n",
       "      <th>6442</th>\n",
       "      <td>A3OXHLG6DIBRW8</td>\n",
       "      <td>C. F. Hill \"CFH\"</td>\n",
       "      <td>7</td>\n",
       "      <td>4.428571</td>\n",
       "    </tr>\n",
       "    <tr>\n",
       "      <th>6330</th>\n",
       "      <td>A3NHUQ33CFH3VM</td>\n",
       "      <td>Citizen John</td>\n",
       "      <td>7</td>\n",
       "      <td>3.142857</td>\n",
       "    </tr>\n",
       "    <tr>\n",
       "      <th>6493</th>\n",
       "      <td>A3PJZ8TU8FDQ1K</td>\n",
       "      <td>Jared Castle</td>\n",
       "      <td>7</td>\n",
       "      <td>4.714286</td>\n",
       "    </tr>\n",
       "    <tr>\n",
       "      <th>8390</th>\n",
       "      <td>AQ6SHOW0VMZGF</td>\n",
       "      <td>K. Padgett \"familyof5\"</td>\n",
       "      <td>6</td>\n",
       "      <td>2.666667</td>\n",
       "    </tr>\n",
       "    <tr>\n",
       "      <th>2826</th>\n",
       "      <td>A26NFIQ7KWI8Y7</td>\n",
       "      <td>kt rose</td>\n",
       "      <td>6</td>\n",
       "      <td>2.666667</td>\n",
       "    </tr>\n",
       "    <tr>\n",
       "      <th>31</th>\n",
       "      <td>A10H24TDLK2VDP</td>\n",
       "      <td>William Jens Jensen</td>\n",
       "      <td>6</td>\n",
       "      <td>3.000000</td>\n",
       "    </tr>\n",
       "  </tbody>\n",
       "</table>\n",
       "</div>"
      ],
      "text/plain": [
       "              UserId                                 ProfileName  Score count  \\\n",
       "2330  A1Z54EM24Y40LL                                          c2           17   \n",
       "4286  A2SZLNSI5KOQJT  Carrie, \"Formerly &#34;Sister Carrie&#34;\"           10   \n",
       "5169  A35R32TA60XD57                                    M. Torma            9   \n",
       "2919  A281NPSIMI1C2R      Rebecca of Amazon \"The Rebecca Review\"            8   \n",
       "6442  A3OXHLG6DIBRW8                            C. F. Hill \"CFH\"            7   \n",
       "6330  A3NHUQ33CFH3VM                                Citizen John            7   \n",
       "6493  A3PJZ8TU8FDQ1K                                Jared Castle            7   \n",
       "8390   AQ6SHOW0VMZGF                      K. Padgett \"familyof5\"            6   \n",
       "2826  A26NFIQ7KWI8Y7                                     kt rose            6   \n",
       "31    A10H24TDLK2VDP                         William Jens Jensen            6   \n",
       "\n",
       "      Score mean  \n",
       "2330    3.882353  \n",
       "4286    3.800000  \n",
       "5169    4.111111  \n",
       "2919    5.000000  \n",
       "6442    4.428571  \n",
       "6330    3.142857  \n",
       "6493    4.714286  \n",
       "8390    2.666667  \n",
       "2826    2.666667  \n",
       "31      3.000000  "
      ]
     },
     "execution_count": 24,
     "metadata": {},
     "output_type": "execute_result"
    }
   ],
   "source": [
    "df1 = pd_data.groupby(['UserId','ProfileName'])['Score'] \\\n",
    "                .count() \\\n",
    "                .reset_index(name='Score count') \\\n",
    "                .sort_values(['Score count'], ascending=False)\n",
    "d = pd_data.groupby(['UserId','ProfileName'])['Score'] \\\n",
    "                .mean() \\\n",
    "                .reset_index(name='Score sum') \\\n",
    "                .sort_values(['Score sum'],ascending=False)\n",
    "df1['Score mean']=d['Score sum']\n",
    "df1.head(10)"
   ]
  },
  {
   "cell_type": "markdown",
   "metadata": {},
   "source": [
    "## 2. Plot score distribution for the user with the most number of reviews"
   ]
  },
  {
   "cell_type": "code",
   "execution_count": 42,
   "metadata": {},
   "outputs": [
    {
     "data": {
      "image/png": "[encoded data removed]",
      "text/plain": [
       "<Figure size 576x432 with 1 Axes>"
      ]
     },
     "metadata": {
      "needs_background": "light"
     },
     "output_type": "display_data"
    }
   ],
   "source": [
    "is_c2 = pd_data['ProfileName']==\"c2\"\n",
    "dfC2 = pd_data[is_c2]  \n",
    "df2 = dfC2['Score'].value_counts().reset_index(name='Score count')\n",
    "plt.figure(figsize=(8,6))\n",
    "bar=plt.bar(df2['index'],df2['Score count'], width=0.5)\n",
    "bar[4].set_color('CornflowerBlue')\n",
    "bar[3].set_color('orange')\n",
    "bar[2].set_color('LimeGreen')\n",
    "bar[1].set_color('Crimson')\n",
    "bar[0].set_color('MediumPurple')\n"
   ]
  },
  {
   "cell_type": "markdown",
   "metadata": {},
   "source": [
    "## 3. Plot pandas Series DataFrame (Time->Date)"
   ]
  },
  {
   "cell_type": "code",
   "execution_count": 21,
   "metadata": {
    "scrolled": false
   },
   "outputs": [
    {
     "data": {
      "text/plain": [
       "<matplotlib.axes._subplots.AxesSubplot at 0x7f6eeb0f9160>"
      ]
     },
     "execution_count": 21,
     "metadata": {},
     "output_type": "execute_result"
    },
    {
     "data": {
      "image/png": "[encoded data removed]",
      "text/plain": [
       "<Figure size 432x288 with 1 Axes>"
      ]
     },
     "metadata": {
      "needs_background": "light"
     },
     "output_type": "display_data"
    }
   ],
   "source": [
    "df3=pd_data['Time'].reset_index(name='Reviews')\n",
    "df3['Reviews']=pd.DataFrame({'date':pd.to_datetime(df3['Reviews'],unit='s')})\n",
    "df3=df3.drop(['index'],axis=1)\n",
    "df3.groupby(df3['Reviews'].dt.year).count().plot(kind=\"bar\")"
   ]
  },
  {
   "cell_type": "markdown",
   "metadata": {},
   "source": [
    "## 4. Plot HeatMap using seaborn"
   ]
  },
  {
   "cell_type": "code",
   "execution_count": 8,
   "metadata": {},
   "outputs": [
    {
     "data": {
      "image/png": "[encoded data removed]",
      "text/plain": [
       "<Figure size 864x720 with 2 Axes>"
      ]
     },
     "metadata": {
      "needs_background": "light"
     },
     "output_type": "display_data"
    }
   ],
   "source": [
    "plt.figure(figsize=(12,10))\n",
    "df4=sns.heatmap(pd_data.drop(['ProductId','UserId','ProfileName','Summary','Text'],axis=1).corr(),vmax=0.6,square=True, annot=True)"
   ]
  },
  {
   "cell_type": "markdown",
   "metadata": {},
   "source": [
    "## 5. Helpful percent"
   ]
  },
  {
   "cell_type": "code",
   "execution_count": 9,
   "metadata": {},
   "outputs": [
    {
     "data": {
      "image/png": "[encoded data removed]",
      "text/plain": [
       "<Figure size 432x288 with 1 Axes>"
      ]
     },
     "metadata": {
      "needs_background": "light"
     },
     "output_type": "display_data"
    }
   ],
   "source": [
    "df5=pd_data['HelpfulnessNumerator'].reset_index(name='Numerator')\n",
    "df5['Denominator']=pd_data[('HelpfulnessDenominator')]\n",
    "df5['Helpful percent']=df5['Numerator']/df5['Denominator']\n",
    "\n",
    "df5=df5.fillna(-1)\n",
    "df5['Helpful percent']=df5['Helpful percent'].replace(0,-1)       \n",
    "        \n",
    "hist = df5['Helpful percent'].hist(bins=10)"
   ]
  },
  {
   "cell_type": "markdown",
   "metadata": {},
   "source": [
    "# Part 2\n",
    "------"
   ]
  },
  {
   "cell_type": "markdown",
   "metadata": {},
   "source": [
    "### dataset: https://www.kaggle.com/c/titanic/data"
   ]
  },
  {
   "cell_type": "markdown",
   "metadata": {},
   "source": [
    "### import library"
   ]
  },
  {
   "cell_type": "code",
   "execution_count": 25,
   "metadata": {},
   "outputs": [],
   "source": [
    "import pandas as pd\n",
    "import matplotlib.pyplot as plt\n",
    "import seaborn as sns\n",
    "import numpy as np"
   ]
  },
  {
   "cell_type": "markdown",
   "metadata": {},
   "source": [
    "### load data"
   ]
  },
  {
   "cell_type": "code",
   "execution_count": 26,
   "metadata": {},
   "outputs": [],
   "source": [
    "pd=pd.read_csv(u'./train.csv')"
   ]
  },
  {
   "cell_type": "markdown",
   "metadata": {},
   "source": [
    "## 1. Plot bar chart of gender\n",
    "- axis-X: gender\n",
    "- axis-Y: number\n",
    "- Type: bar chart"
   ]
  },
  {
   "cell_type": "code",
   "execution_count": 49,
   "metadata": {},
   "outputs": [
    {
     "data": {
      "image/png": "[encoded data removed]",
      "text/plain": [
       "<Figure size 576x432 with 1 Axes>"
      ]
     },
     "metadata": {
      "needs_background": "light"
     },
     "output_type": "display_data"
    }
   ],
   "source": [
    "plt.figure(figsize=(8,6))\n",
    "df1 = pd.groupby(['Sex'])['Sex'] \\\n",
    "                .count() \\\n",
    "                .reset_index(name='Count')\n",
    "bar=plt.bar(df1['Sex'],df1['Count'], width=0.2)\n",
    "bar[1].set_color('CornflowerBlue')\n",
    "bar[0].set_color('Crimson')"
   ]
  },
  {
   "cell_type": "markdown",
   "metadata": {},
   "source": [
    "##  2. Plot the bar chart of classes in male\n",
    "- axis-X: class\n",
    "- axis-Y: number\n",
    "- Type: bar chart"
   ]
  },
  {
   "cell_type": "code",
   "execution_count": 67,
   "metadata": {},
   "outputs": [
    {
     "data": {
      "image/png": "[encoded data removed]",
      "text/plain": [
       "<Figure size 576x432 with 1 Axes>"
      ]
     },
     "metadata": {
      "needs_background": "light"
     },
     "output_type": "display_data"
    }
   ],
   "source": [
    "is_male = pd['Sex']==\"male\"\n",
    "dfMale = pd[is_male]\n",
    "df2 = dfMale['Pclass'].value_counts().reset_index(name='Count').sort_values(['index'], ascending=True)\n",
    "\n",
    "class_map = {1:'class 1', 2:'class 2', 3:'class 3'}\n",
    "df2['index'] = df2['index'].map(class_map)\n",
    "\n",
    "plt.figure(figsize=(8,6))\n",
    "bar=plt.bar(df2['index'],df2['Count'], width=0.4)"
   ]
  },
  {
   "cell_type": "markdown",
   "metadata": {},
   "source": [
    "## 3. Plot the bar chart of surviver number in class 3\n",
    "- axis-X: survived or not\n",
    "- axis-Y: number\n",
    "- Type: bar chart"
   ]
  },
  {
   "cell_type": "code",
   "execution_count": 75,
   "metadata": {},
   "outputs": [
    {
     "data": {
      "image/png": "[encoded data removed]",
      "text/plain": [
       "<Figure size 576x432 with 1 Axes>"
      ]
     },
     "metadata": {
      "needs_background": "light"
     },
     "output_type": "display_data"
    }
   ],
   "source": [
    "is_class3 = dfMale['Pclass']==3\n",
    "dfClass3 = dfMale[is_class3]\n",
    "df3 = dfClass3['Survived'].value_counts().reset_index(name='Count').sort_values(['index'], ascending=True)\n",
    "\n",
    "survived_map = {0:'die', 1:'survive'}\n",
    "df3['index'] = df3['index'].map(survived_map)\n",
    "\n",
    "plt.figure(figsize=(8,6))\n",
    "bar=plt.bar(df3['index'],df3['Count'], width=0.2)"
   ]
  },
  {
   "cell_type": "markdown",
   "metadata": {},
   "source": [
    "## 4. Plot HeatMap using seaborn"
   ]
  },
  {
   "cell_type": "code",
   "execution_count": 85,
   "metadata": {},
   "outputs": [
    {
     "data": {
      "image/png": "[encoded data removed]",
      "text/plain": [
       "<Figure size 864x720 with 2 Axes>"
      ]
     },
     "metadata": {
      "needs_background": "light"
     },
     "output_type": "display_data"
    }
   ],
   "source": [
    "plt.figure(figsize=(12,10))\n",
    "df4=pd.drop(['PassengerId','Name','Ticket','Cabin','Embarked'],axis=1)\n",
    "df4.head(10)\n",
    "df4=sns.heatmap(df4.corr(),vmax=0.6,square=True, annot=True)"
   ]
  },
  {
   "cell_type": "markdown",
   "metadata": {},
   "source": [
    "## 5. Top-10 Age"
   ]
  },
  {
   "cell_type": "code",
   "execution_count": 90,
   "metadata": {},
   "outputs": [
    {
     "data": {
      "text/html": [
       "<div>\n",
       "<style scoped>\n",
       "    .dataframe tbody tr th:only-of-type {\n",
       "        vertical-align: middle;\n",
       "    }\n",
       "\n",
       "    .dataframe tbody tr th {\n",
       "        vertical-align: top;\n",
       "    }\n",
       "\n",
       "    .dataframe thead th {\n",
       "        text-align: right;\n",
       "    }\n",
       "</style>\n",
       "<table border=\"1\" class=\"dataframe\">\n",
       "  <thead>\n",
       "    <tr style=\"text-align: right;\">\n",
       "      <th></th>\n",
       "      <th>Age</th>\n",
       "      <th>Age count</th>\n",
       "    </tr>\n",
       "  </thead>\n",
       "  <tbody>\n",
       "    <tr>\n",
       "      <th>31</th>\n",
       "      <td>24.0</td>\n",
       "      <td>30</td>\n",
       "    </tr>\n",
       "    <tr>\n",
       "      <th>28</th>\n",
       "      <td>22.0</td>\n",
       "      <td>27</td>\n",
       "    </tr>\n",
       "    <tr>\n",
       "      <th>23</th>\n",
       "      <td>18.0</td>\n",
       "      <td>26</td>\n",
       "    </tr>\n",
       "    <tr>\n",
       "      <th>39</th>\n",
       "      <td>30.0</td>\n",
       "      <td>25</td>\n",
       "    </tr>\n",
       "    <tr>\n",
       "      <th>36</th>\n",
       "      <td>28.0</td>\n",
       "      <td>25</td>\n",
       "    </tr>\n",
       "    <tr>\n",
       "      <th>24</th>\n",
       "      <td>19.0</td>\n",
       "      <td>25</td>\n",
       "    </tr>\n",
       "    <tr>\n",
       "      <th>27</th>\n",
       "      <td>21.0</td>\n",
       "      <td>24</td>\n",
       "    </tr>\n",
       "    <tr>\n",
       "      <th>33</th>\n",
       "      <td>25.0</td>\n",
       "      <td>23</td>\n",
       "    </tr>\n",
       "    <tr>\n",
       "      <th>48</th>\n",
       "      <td>36.0</td>\n",
       "      <td>22</td>\n",
       "    </tr>\n",
       "    <tr>\n",
       "      <th>38</th>\n",
       "      <td>29.0</td>\n",
       "      <td>20</td>\n",
       "    </tr>\n",
       "  </tbody>\n",
       "</table>\n",
       "</div>"
      ],
      "text/plain": [
       "     Age  Age count\n",
       "31  24.0         30\n",
       "28  22.0         27\n",
       "23  18.0         26\n",
       "39  30.0         25\n",
       "36  28.0         25\n",
       "24  19.0         25\n",
       "27  21.0         24\n",
       "33  25.0         23\n",
       "48  36.0         22\n",
       "38  29.0         20"
      ]
     },
     "execution_count": 90,
     "metadata": {},
     "output_type": "execute_result"
    }
   ],
   "source": [
    "df5 = pd.groupby(['Age'])['Age'] \\\n",
    "                .count() \\\n",
    "                .reset_index(name='Age count') \\\n",
    "                .sort_values(['Age count'], ascending=False)\n",
    "df5.head(10)"
   ]
  },
  {
   "cell_type": "markdown",
   "metadata": {},
   "source": [
    "## 6. Plot age distribution"
   ]
  },
  {
   "cell_type": "code",
   "execution_count": 96,
   "metadata": {},
   "outputs": [
    {
     "data": {
      "image/png": "[encoded data removed]",
      "text/plain": [
       "<Figure size 1152x720 with 1 Axes>"
      ]
     },
     "metadata": {
      "needs_background": "light"
     },
     "output_type": "display_data"
    }
   ],
   "source": [
    "plt.figure(figsize=(16,10))\n",
    "bar=plt.bar(df5['Age'],df5['Age count'], width=0.4)"
   ]
  }
 ],
 "metadata": {
  "kernelspec": {
   "display_name": "Python 3",
   "language": "python",
   "name": "python3"
  },
  "language_info": {
   "codemirror_mode": {
    "name": "ipython",
    "version": 3
   },
   "file_extension": ".py",
   "mimetype": "text/x-python",
   "name": "python",
   "nbconvert_exporter": "python",
   "pygments_lexer": "ipython3",
   "version": "3.7.1"
  }
 },
 "nbformat": 4,
 "nbformat_minor": 2
}
