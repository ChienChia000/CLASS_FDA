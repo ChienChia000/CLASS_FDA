{
 "cells": [
  {
   "cell_type": "markdown",
   "metadata": {},
   "source": [
    "# FDA Homework 3\n",
    "---"
   ]
  },
  {
   "cell_type": "markdown",
   "metadata": {},
   "source": [
    "### Import Library"
   ]
  },
  {
   "cell_type": "code",
   "execution_count": 1,
   "metadata": {},
   "outputs": [],
   "source": [
    "import pandas as pd\n",
    "import matplotlib.pyplot as plt\n",
    "import numpy as np\n",
    "from sklearn import linear_model, metrics, model_selection\n",
    "from sklearn.metrics import accuracy_score\n",
    "from sklearn.preprocessing import StandardScaler"
   ]
  },
  {
   "cell_type": "markdown",
   "metadata": {},
   "source": [
    "### Load Data\n",
    "* Dataset: https://www.sharecast.com/index/SP_500/prices/download\n",
    "* Training set\n",
    "    * 02-Jan-2009 to 29-Dec-2017\n",
    "* Test set\n",
    "    * 02-Jan-2018 to 31-Dec-2018"
   ]
  },
  {
   "cell_type": "code",
   "execution_count": 2,
   "metadata": {},
   "outputs": [
    {
     "data": {
      "text/html": [
       "<div>\n",
       "<style scoped>\n",
       "    .dataframe tbody tr th:only-of-type {\n",
       "        vertical-align: middle;\n",
       "    }\n",
       "\n",
       "    .dataframe tbody tr th {\n",
       "        vertical-align: top;\n",
       "    }\n",
       "\n",
       "    .dataframe thead th {\n",
       "        text-align: right;\n",
       "    }\n",
       "</style>\n",
       "<table border=\"1\" class=\"dataframe\">\n",
       "  <thead>\n",
       "    <tr style=\"text-align: right;\">\n",
       "      <th></th>\n",
       "      <th>Date</th>\n",
       "      <th>Open Price</th>\n",
       "      <th>Close Price</th>\n",
       "      <th>High Price</th>\n",
       "      <th>Low Price</th>\n",
       "      <th>Volume</th>\n",
       "    </tr>\n",
       "  </thead>\n",
       "  <tbody>\n",
       "    <tr>\n",
       "      <th>0</th>\n",
       "      <td>02-Jan-2009</td>\n",
       "      <td>902.99</td>\n",
       "      <td>931.80</td>\n",
       "      <td>934.73</td>\n",
       "      <td>899.35</td>\n",
       "      <td>4048270080</td>\n",
       "    </tr>\n",
       "    <tr>\n",
       "      <th>1</th>\n",
       "      <td>05-Jan-2009</td>\n",
       "      <td>929.17</td>\n",
       "      <td>927.45</td>\n",
       "      <td>936.63</td>\n",
       "      <td>919.53</td>\n",
       "      <td>5413910016</td>\n",
       "    </tr>\n",
       "    <tr>\n",
       "      <th>2</th>\n",
       "      <td>06-Jan-2009</td>\n",
       "      <td>931.17</td>\n",
       "      <td>934.70</td>\n",
       "      <td>943.85</td>\n",
       "      <td>927.28</td>\n",
       "      <td>5392620032</td>\n",
       "    </tr>\n",
       "  </tbody>\n",
       "</table>\n",
       "</div>"
      ],
      "text/plain": [
       "          Date  Open Price  Close Price  High Price  Low Price      Volume\n",
       "0  02-Jan-2009      902.99       931.80      934.73     899.35  4048270080\n",
       "1  05-Jan-2009      929.17       927.45      936.63     919.53  5413910016\n",
       "2  06-Jan-2009      931.17       934.70      943.85     927.28  5392620032"
      ]
     },
     "execution_count": 2,
     "metadata": {},
     "output_type": "execute_result"
    }
   ],
   "source": [
    "pd_train=pd.read_csv(u'./train.csv')\n",
    "pd_train.head(3)"
   ]
  },
  {
   "cell_type": "code",
   "execution_count": 3,
   "metadata": {},
   "outputs": [
    {
     "data": {
      "text/html": [
       "<div>\n",
       "<style scoped>\n",
       "    .dataframe tbody tr th:only-of-type {\n",
       "        vertical-align: middle;\n",
       "    }\n",
       "\n",
       "    .dataframe tbody tr th {\n",
       "        vertical-align: top;\n",
       "    }\n",
       "\n",
       "    .dataframe thead th {\n",
       "        text-align: right;\n",
       "    }\n",
       "</style>\n",
       "<table border=\"1\" class=\"dataframe\">\n",
       "  <thead>\n",
       "    <tr style=\"text-align: right;\">\n",
       "      <th></th>\n",
       "      <th>Date</th>\n",
       "      <th>Open Price</th>\n",
       "      <th>Close Price</th>\n",
       "      <th>High Price</th>\n",
       "      <th>Low Price</th>\n",
       "      <th>Volume</th>\n",
       "    </tr>\n",
       "  </thead>\n",
       "  <tbody>\n",
       "    <tr>\n",
       "      <th>0</th>\n",
       "      <td>02-Jan-2018</td>\n",
       "      <td>2683.73</td>\n",
       "      <td>2695.81</td>\n",
       "      <td>2695.89</td>\n",
       "      <td>2682.36</td>\n",
       "      <td>1846463232</td>\n",
       "    </tr>\n",
       "    <tr>\n",
       "      <th>1</th>\n",
       "      <td>03-Jan-2018</td>\n",
       "      <td>2697.85</td>\n",
       "      <td>2713.06</td>\n",
       "      <td>2714.37</td>\n",
       "      <td>2697.77</td>\n",
       "      <td>2090595328</td>\n",
       "    </tr>\n",
       "    <tr>\n",
       "      <th>2</th>\n",
       "      <td>04-Jan-2018</td>\n",
       "      <td>2719.31</td>\n",
       "      <td>2723.99</td>\n",
       "      <td>2729.29</td>\n",
       "      <td>2719.07</td>\n",
       "      <td>2100767744</td>\n",
       "    </tr>\n",
       "  </tbody>\n",
       "</table>\n",
       "</div>"
      ],
      "text/plain": [
       "          Date  Open Price  Close Price  High Price  Low Price      Volume\n",
       "0  02-Jan-2018     2683.73      2695.81     2695.89    2682.36  1846463232\n",
       "1  03-Jan-2018     2697.85      2713.06     2714.37    2697.77  2090595328\n",
       "2  04-Jan-2018     2719.31      2723.99     2729.29    2719.07  2100767744"
      ]
     },
     "execution_count": 3,
     "metadata": {},
     "output_type": "execute_result"
    }
   ],
   "source": [
    "pd_test=pd.read_csv(u'./test.csv')\n",
    "pd_test.head(3)"
   ]
  },
  {
   "cell_type": "markdown",
   "metadata": {},
   "source": [
    "### draw the Close Price Movement"
   ]
  },
  {
   "cell_type": "code",
   "execution_count": 4,
   "metadata": {},
   "outputs": [
    {
     "data": {
      "image/png": "[encoded data removed]",
      "text/plain": [
       "<Figure size 1080x504 with 1 Axes>"
      ]
     },
     "metadata": {
      "needs_background": "light"
     },
     "output_type": "display_data"
    }
   ],
   "source": [
    "plt.figure(figsize=(15,7))\n",
    "plt.plot_date(pd.to_datetime(pd_train['Date']), pd_train['Close Price'], '-')\n",
    "plt.title('Close Price Movement')\n",
    "plt.legend(['Close Price'])\n",
    "plt.xlabel('year')\n",
    "plt.show()"
   ]
  },
  {
   "cell_type": "markdown",
   "metadata": {},
   "source": [
    "## Peprocess Dataset\n",
    "### caculate Close Price grow \n",
    "To predict the next day's Close Price is grow or not, I set an attribute 'grow' to record the next day's stock movement.\n",
    "* 0: Close Price doesn't grow\n",
    "* 1: Close Price grow"
   ]
  },
  {
   "cell_type": "code",
   "execution_count": 5,
   "metadata": {},
   "outputs": [
    {
     "data": {
      "text/html": [
       "<div>\n",
       "<style scoped>\n",
       "    .dataframe tbody tr th:only-of-type {\n",
       "        vertical-align: middle;\n",
       "    }\n",
       "\n",
       "    .dataframe tbody tr th {\n",
       "        vertical-align: top;\n",
       "    }\n",
       "\n",
       "    .dataframe thead th {\n",
       "        text-align: right;\n",
       "    }\n",
       "</style>\n",
       "<table border=\"1\" class=\"dataframe\">\n",
       "  <thead>\n",
       "    <tr style=\"text-align: right;\">\n",
       "      <th></th>\n",
       "      <th>Date</th>\n",
       "      <th>Open Price</th>\n",
       "      <th>Close Price</th>\n",
       "      <th>High Price</th>\n",
       "      <th>Low Price</th>\n",
       "      <th>Volume</th>\n",
       "      <th>grow</th>\n",
       "    </tr>\n",
       "  </thead>\n",
       "  <tbody>\n",
       "    <tr>\n",
       "      <th>0</th>\n",
       "      <td>02-Jan-2009</td>\n",
       "      <td>902.99</td>\n",
       "      <td>931.80</td>\n",
       "      <td>934.73</td>\n",
       "      <td>899.35</td>\n",
       "      <td>4048270080</td>\n",
       "      <td>0</td>\n",
       "    </tr>\n",
       "    <tr>\n",
       "      <th>1</th>\n",
       "      <td>05-Jan-2009</td>\n",
       "      <td>929.17</td>\n",
       "      <td>927.45</td>\n",
       "      <td>936.63</td>\n",
       "      <td>919.53</td>\n",
       "      <td>5413910016</td>\n",
       "      <td>1</td>\n",
       "    </tr>\n",
       "    <tr>\n",
       "      <th>2</th>\n",
       "      <td>06-Jan-2009</td>\n",
       "      <td>931.17</td>\n",
       "      <td>934.70</td>\n",
       "      <td>943.85</td>\n",
       "      <td>927.28</td>\n",
       "      <td>5392620032</td>\n",
       "      <td>0</td>\n",
       "    </tr>\n",
       "    <tr>\n",
       "      <th>3</th>\n",
       "      <td>07-Jan-2009</td>\n",
       "      <td>927.45</td>\n",
       "      <td>906.65</td>\n",
       "      <td>927.45</td>\n",
       "      <td>902.37</td>\n",
       "      <td>4704940032</td>\n",
       "      <td>1</td>\n",
       "    </tr>\n",
       "    <tr>\n",
       "      <th>4</th>\n",
       "      <td>08-Jan-2009</td>\n",
       "      <td>905.73</td>\n",
       "      <td>909.73</td>\n",
       "      <td>910.00</td>\n",
       "      <td>896.81</td>\n",
       "      <td>4991549952</td>\n",
       "      <td>0</td>\n",
       "    </tr>\n",
       "  </tbody>\n",
       "</table>\n",
       "</div>"
      ],
      "text/plain": [
       "          Date  Open Price  Close Price  High Price  Low Price      Volume  \\\n",
       "0  02-Jan-2009      902.99       931.80      934.73     899.35  4048270080   \n",
       "1  05-Jan-2009      929.17       927.45      936.63     919.53  5413910016   \n",
       "2  06-Jan-2009      931.17       934.70      943.85     927.28  5392620032   \n",
       "3  07-Jan-2009      927.45       906.65      927.45     902.37  4704940032   \n",
       "4  08-Jan-2009      905.73       909.73      910.00     896.81  4991549952   \n",
       "\n",
       "   grow  \n",
       "0     0  \n",
       "1     1  \n",
       "2     0  \n",
       "3     1  \n",
       "4     0  "
      ]
     },
     "execution_count": 5,
     "metadata": {},
     "output_type": "execute_result"
    }
   ],
   "source": [
    "pd_train['grow']=0\n",
    "for x in range(0, 2263):\n",
    "    if pd_train.iloc[x][2]<pd_train.iloc[x+1][2]:\n",
    "        pd_train.at[x, 'grow']=1\n",
    "\n",
    "pd_train.head(5)"
   ]
  },
  {
   "cell_type": "code",
   "execution_count": 6,
   "metadata": {},
   "outputs": [
    {
     "data": {
      "text/html": [
       "<div>\n",
       "<style scoped>\n",
       "    .dataframe tbody tr th:only-of-type {\n",
       "        vertical-align: middle;\n",
       "    }\n",
       "\n",
       "    .dataframe tbody tr th {\n",
       "        vertical-align: top;\n",
       "    }\n",
       "\n",
       "    .dataframe thead th {\n",
       "        text-align: right;\n",
       "    }\n",
       "</style>\n",
       "<table border=\"1\" class=\"dataframe\">\n",
       "  <thead>\n",
       "    <tr style=\"text-align: right;\">\n",
       "      <th></th>\n",
       "      <th>Date</th>\n",
       "      <th>Open Price</th>\n",
       "      <th>Close Price</th>\n",
       "      <th>High Price</th>\n",
       "      <th>Low Price</th>\n",
       "      <th>Volume</th>\n",
       "      <th>grow</th>\n",
       "    </tr>\n",
       "  </thead>\n",
       "  <tbody>\n",
       "    <tr>\n",
       "      <th>0</th>\n",
       "      <td>02-Jan-2018</td>\n",
       "      <td>2683.73</td>\n",
       "      <td>2695.81</td>\n",
       "      <td>2695.89</td>\n",
       "      <td>2682.36</td>\n",
       "      <td>1846463232</td>\n",
       "      <td>1</td>\n",
       "    </tr>\n",
       "    <tr>\n",
       "      <th>1</th>\n",
       "      <td>03-Jan-2018</td>\n",
       "      <td>2697.85</td>\n",
       "      <td>2713.06</td>\n",
       "      <td>2714.37</td>\n",
       "      <td>2697.77</td>\n",
       "      <td>2090595328</td>\n",
       "      <td>1</td>\n",
       "    </tr>\n",
       "    <tr>\n",
       "      <th>2</th>\n",
       "      <td>04-Jan-2018</td>\n",
       "      <td>2719.31</td>\n",
       "      <td>2723.99</td>\n",
       "      <td>2729.29</td>\n",
       "      <td>2719.07</td>\n",
       "      <td>2100767744</td>\n",
       "      <td>1</td>\n",
       "    </tr>\n",
       "    <tr>\n",
       "      <th>3</th>\n",
       "      <td>05-Jan-2018</td>\n",
       "      <td>2731.33</td>\n",
       "      <td>2743.15</td>\n",
       "      <td>2743.45</td>\n",
       "      <td>2727.92</td>\n",
       "      <td>1918869120</td>\n",
       "      <td>1</td>\n",
       "    </tr>\n",
       "    <tr>\n",
       "      <th>4</th>\n",
       "      <td>08-Jan-2018</td>\n",
       "      <td>2742.67</td>\n",
       "      <td>2747.71</td>\n",
       "      <td>2748.51</td>\n",
       "      <td>2737.60</td>\n",
       "      <td>1894823936</td>\n",
       "      <td>1</td>\n",
       "    </tr>\n",
       "  </tbody>\n",
       "</table>\n",
       "</div>"
      ],
      "text/plain": [
       "          Date  Open Price  Close Price  High Price  Low Price      Volume  \\\n",
       "0  02-Jan-2018     2683.73      2695.81     2695.89    2682.36  1846463232   \n",
       "1  03-Jan-2018     2697.85      2713.06     2714.37    2697.77  2090595328   \n",
       "2  04-Jan-2018     2719.31      2723.99     2729.29    2719.07  2100767744   \n",
       "3  05-Jan-2018     2731.33      2743.15     2743.45    2727.92  1918869120   \n",
       "4  08-Jan-2018     2742.67      2747.71     2748.51    2737.60  1894823936   \n",
       "\n",
       "   grow  \n",
       "0     1  \n",
       "1     1  \n",
       "2     1  \n",
       "3     1  \n",
       "4     1  "
      ]
     },
     "execution_count": 6,
     "metadata": {},
     "output_type": "execute_result"
    }
   ],
   "source": [
    "pd_test['grow']=0\n",
    "for x in range(0, 250):\n",
    "    if pd_test.iloc[x][2]<pd_test.iloc[x+1][2]:\n",
    "        pd_test.at[x, 'grow']=1\n",
    "\n",
    "pd_test.head(5)"
   ]
  },
  {
   "cell_type": "markdown",
   "metadata": {},
   "source": [
    "### split x_train, y_train and drop some attributes"
   ]
  },
  {
   "cell_type": "code",
   "execution_count": 7,
   "metadata": {},
   "outputs": [
    {
     "data": {
      "text/html": [
       "<div>\n",
       "<style scoped>\n",
       "    .dataframe tbody tr th:only-of-type {\n",
       "        vertical-align: middle;\n",
       "    }\n",
       "\n",
       "    .dataframe tbody tr th {\n",
       "        vertical-align: top;\n",
       "    }\n",
       "\n",
       "    .dataframe thead th {\n",
       "        text-align: right;\n",
       "    }\n",
       "</style>\n",
       "<table border=\"1\" class=\"dataframe\">\n",
       "  <thead>\n",
       "    <tr style=\"text-align: right;\">\n",
       "      <th></th>\n",
       "      <th>Open Price</th>\n",
       "      <th>High Price</th>\n",
       "      <th>Low Price</th>\n",
       "    </tr>\n",
       "  </thead>\n",
       "  <tbody>\n",
       "    <tr>\n",
       "      <th>0</th>\n",
       "      <td>902.99</td>\n",
       "      <td>934.73</td>\n",
       "      <td>899.35</td>\n",
       "    </tr>\n",
       "    <tr>\n",
       "      <th>1</th>\n",
       "      <td>929.17</td>\n",
       "      <td>936.63</td>\n",
       "      <td>919.53</td>\n",
       "    </tr>\n",
       "    <tr>\n",
       "      <th>2</th>\n",
       "      <td>931.17</td>\n",
       "      <td>943.85</td>\n",
       "      <td>927.28</td>\n",
       "    </tr>\n",
       "  </tbody>\n",
       "</table>\n",
       "</div>"
      ],
      "text/plain": [
       "   Open Price  High Price  Low Price\n",
       "0      902.99      934.73     899.35\n",
       "1      929.17      936.63     919.53\n",
       "2      931.17      943.85     927.28"
      ]
     },
     "execution_count": 7,
     "metadata": {},
     "output_type": "execute_result"
    }
   ],
   "source": [
    "x_train = pd_train.drop(['Date'], axis=1)\n",
    "x_train = x_train.drop(['Close Price'], axis=1)\n",
    "x_train = x_train.drop(['Volume'], axis=1)\n",
    "x_train = x_train.drop(['grow'], axis=1)\n",
    "x_train.head(3)"
   ]
  },
  {
   "cell_type": "code",
   "execution_count": 8,
   "metadata": {},
   "outputs": [
    {
     "data": {
      "text/plain": [
       "0    0\n",
       "1    1\n",
       "2    0\n",
       "Name: grow, dtype: int64"
      ]
     },
     "execution_count": 8,
     "metadata": {},
     "output_type": "execute_result"
    }
   ],
   "source": [
    "y_train = pd_train['grow']\n",
    "y_train.head(3)"
   ]
  },
  {
   "cell_type": "markdown",
   "metadata": {},
   "source": [
    "### split x_test, y_test and drop some attributes"
   ]
  },
  {
   "cell_type": "code",
   "execution_count": 9,
   "metadata": {},
   "outputs": [
    {
     "data": {
      "text/html": [
       "<div>\n",
       "<style scoped>\n",
       "    .dataframe tbody tr th:only-of-type {\n",
       "        vertical-align: middle;\n",
       "    }\n",
       "\n",
       "    .dataframe tbody tr th {\n",
       "        vertical-align: top;\n",
       "    }\n",
       "\n",
       "    .dataframe thead th {\n",
       "        text-align: right;\n",
       "    }\n",
       "</style>\n",
       "<table border=\"1\" class=\"dataframe\">\n",
       "  <thead>\n",
       "    <tr style=\"text-align: right;\">\n",
       "      <th></th>\n",
       "      <th>Open Price</th>\n",
       "      <th>High Price</th>\n",
       "      <th>Low Price</th>\n",
       "    </tr>\n",
       "  </thead>\n",
       "  <tbody>\n",
       "    <tr>\n",
       "      <th>0</th>\n",
       "      <td>2683.73</td>\n",
       "      <td>2695.89</td>\n",
       "      <td>2682.36</td>\n",
       "    </tr>\n",
       "    <tr>\n",
       "      <th>1</th>\n",
       "      <td>2697.85</td>\n",
       "      <td>2714.37</td>\n",
       "      <td>2697.77</td>\n",
       "    </tr>\n",
       "    <tr>\n",
       "      <th>2</th>\n",
       "      <td>2719.31</td>\n",
       "      <td>2729.29</td>\n",
       "      <td>2719.07</td>\n",
       "    </tr>\n",
       "  </tbody>\n",
       "</table>\n",
       "</div>"
      ],
      "text/plain": [
       "   Open Price  High Price  Low Price\n",
       "0     2683.73     2695.89    2682.36\n",
       "1     2697.85     2714.37    2697.77\n",
       "2     2719.31     2729.29    2719.07"
      ]
     },
     "execution_count": 9,
     "metadata": {},
     "output_type": "execute_result"
    }
   ],
   "source": [
    "x_test = pd_test.drop(['Date'], axis=1)\n",
    "x_test = x_test.drop(['Close Price'], axis=1)\n",
    "x_test = x_test.drop(['Volume'], axis=1)\n",
    "x_test = x_test.drop(['grow'], axis=1)\n",
    "x_test.head(3)"
   ]
  },
  {
   "cell_type": "code",
   "execution_count": 10,
   "metadata": {},
   "outputs": [
    {
     "data": {
      "text/plain": [
       "0    1\n",
       "1    1\n",
       "2    1\n",
       "Name: grow, dtype: int64"
      ]
     },
     "execution_count": 10,
     "metadata": {},
     "output_type": "execute_result"
    }
   ],
   "source": [
    "y_test = pd_test['grow']\n",
    "y_test.head(3)"
   ]
  },
  {
   "cell_type": "markdown",
   "metadata": {},
   "source": [
    "### standarize the data"
   ]
  },
  {
   "cell_type": "code",
   "execution_count": 11,
   "metadata": {},
   "outputs": [],
   "source": [
    "scaler = StandardScaler()\n",
    "scaler.fit(x_train)\n",
    "\n",
    "x_train_std = scaler.transform(x_train)\n",
    "x_test_std = scaler.transform(x_test)"
   ]
  },
  {
   "cell_type": "markdown",
   "metadata": {},
   "source": [
    "## 1. use Logistic Regression to predict"
   ]
  },
  {
   "cell_type": "code",
   "execution_count": 12,
   "metadata": {},
   "outputs": [],
   "source": [
    "from sklearn.linear_model import LogisticRegression"
   ]
  },
  {
   "cell_type": "markdown",
   "metadata": {},
   "source": [
    "### accuracy"
   ]
  },
  {
   "cell_type": "code",
   "execution_count": 13,
   "metadata": {},
   "outputs": [
    {
     "name": "stdout",
     "output_type": "stream",
     "text": [
      "Test accuracy: 51.59 %\n"
     ]
    }
   ],
   "source": [
    "clf = LogisticRegression(random_state=0, solver='liblinear').fit(x_train_std, y_train)\n",
    "\n",
    "test_std_preds = clf.predict(x_test_std)\n",
    "test_acc = accuracy_score(y_test, test_std_preds)*100\n",
    "print('Test accuracy: %.2f %%' % test_acc)"
   ]
  },
  {
   "cell_type": "markdown",
   "metadata": {},
   "source": [
    "### try to modify the class weight and predict\n",
    "dataset is not balanced, so I try to modify the class weight to 'balanced' to solve the problem\n",
    "\n",
    "But, it doesn't work..."
   ]
  },
  {
   "cell_type": "code",
   "execution_count": 14,
   "metadata": {},
   "outputs": [
    {
     "name": "stdout",
     "output_type": "stream",
     "text": [
      "Test accuracy: 48.41 %\n"
     ]
    }
   ],
   "source": [
    "clf = LogisticRegression(random_state=0, solver='liblinear', class_weight='balanced').fit(x_train_std, y_train)\n",
    "\n",
    "test_std_preds = clf.predict(x_test_std)\n",
    "test_acc = accuracy_score(y_test, test_std_preds)*100\n",
    "print('Test accuracy: %.2f %%' % test_acc)"
   ]
  },
  {
   "cell_type": "markdown",
   "metadata": {},
   "source": [
    "### try to use more attributes to predict\n",
    "Maybe I have dropped some important attributes above, so the accuracy is low.\n",
    "\n",
    "So, I decide to use all the atttribues except 'Date'.\n",
    "\n",
    "And, it still doesn't works..."
   ]
  },
  {
   "cell_type": "code",
   "execution_count": 15,
   "metadata": {},
   "outputs": [
    {
     "name": "stdout",
     "output_type": "stream",
     "text": [
      "Test accuracy: 51.59 %\n"
     ]
    },
    {
     "name": "stderr",
     "output_type": "stream",
     "text": [
      "/home/chienchia/anaconda3/lib/python3.7/site-packages/sklearn/preprocessing/data.py:625: DataConversionWarning: Data with input dtype int64, float64 were all converted to float64 by StandardScaler.\n",
      "  return self.partial_fit(X, y)\n",
      "/home/chienchia/anaconda3/lib/python3.7/site-packages/ipykernel_launcher.py:10: DataConversionWarning: Data with input dtype int64, float64 were all converted to float64 by StandardScaler.\n",
      "  # Remove the CWD from sys.path while we load stuff.\n",
      "/home/chienchia/anaconda3/lib/python3.7/site-packages/ipykernel_launcher.py:11: DataConversionWarning: Data with input dtype int64, float64 were all converted to float64 by StandardScaler.\n",
      "  # This is added back by InteractiveShellApp.init_path()\n"
     ]
    }
   ],
   "source": [
    "X_train = pd_train.drop(['Date'], axis=1)\n",
    "X_train = X_train.drop(['grow'], axis=1)\n",
    "\n",
    "X_test = pd_test.drop(['Date'], axis=1)\n",
    "X_test = X_test.drop(['grow'], axis=1)\n",
    "\n",
    "scaler = StandardScaler()\n",
    "scaler.fit(X_train)\n",
    "\n",
    "X_train_std = scaler.transform(X_train)\n",
    "X_test_std = scaler.transform(X_test)\n",
    "\n",
    "clf = LogisticRegression(random_state=0, solver='liblinear').fit(X_train_std, y_train)\n",
    "test_std_preds = clf.predict(X_test_std)\n",
    "test_acc = accuracy_score(y_test, test_std_preds)*100\n",
    "print('Test accuracy: %.2f %%' % test_acc)"
   ]
  },
  {
   "cell_type": "markdown",
   "metadata": {},
   "source": [
    "### try to use Gradient Descent Model to improve accuracy\n",
    "passing log to argument loss to get a logistic regressin model\n",
    "\n",
    "And, it still doesn't work..."
   ]
  },
  {
   "cell_type": "code",
   "execution_count": 16,
   "metadata": {},
   "outputs": [
    {
     "name": "stdout",
     "output_type": "stream",
     "text": [
      "Test accuracy: 51.98 %\n"
     ]
    }
   ],
   "source": [
    "model_SGD = linear_model.SGDClassifier(loss='log', max_iter=10000, tol=-np.infty)\n",
    "model_SGD.fit(x_train_std, y_train)\n",
    "\n",
    "test_preds = model_SGD.predict(x_test_std)\n",
    "test_acc = accuracy_score(y_test, test_preds)*100\n",
    "print('Test accuracy: %.2f %%' % test_acc)"
   ]
  },
  {
   "cell_type": "markdown",
   "metadata": {},
   "source": [
    "## 2. use SVM to predict"
   ]
  },
  {
   "cell_type": "code",
   "execution_count": 17,
   "metadata": {},
   "outputs": [],
   "source": [
    "from sklearn.svm import SVC"
   ]
  },
  {
   "cell_type": "code",
   "execution_count": 18,
   "metadata": {},
   "outputs": [
    {
     "name": "stdout",
     "output_type": "stream",
     "text": [
      "Penalty = 0.01, Test accuracy = 51.59 %\n"
     ]
    }
   ],
   "source": [
    "penalty = 0.01\n",
    "\n",
    "svm = SVC(C=penalty, kernel=\"linear\", probability=True)\n",
    "svm.fit(x_train_std, y_train)\n",
    "  \n",
    "acc_rate = accuracy_score(y_test, svm.predict(x_test_std))*100\n",
    "print(\"Penalty = %.2f, Test accuracy = %.2f %%\" % (penalty, acc_rate))"
   ]
  },
  {
   "cell_type": "markdown",
   "metadata": {},
   "source": [
    "### try to modify kernel to poly, rbf, sigmoid and predict\n",
    "They are all the same.\n",
    "\n",
    "It doesn't work..."
   ]
  },
  {
   "cell_type": "code",
   "execution_count": 19,
   "metadata": {},
   "outputs": [
    {
     "name": "stdout",
     "output_type": "stream",
     "text": [
      "Kernel = poly, Penalty = 0.01, Test accuracy = 51.59 %\n"
     ]
    }
   ],
   "source": [
    "penalty = 0.01\n",
    "\n",
    "svm = SVC(C=penalty, kernel=\"poly\", probability=True)\n",
    "svm.fit(x_train_std, y_train)\n",
    "  \n",
    "acc_rate = accuracy_score(y_test, svm.predict(x_test_std))*100\n",
    "print(\"Kernel = poly, Penalty = %.2f, Test accuracy = %.2f %%\" % (penalty, acc_rate))"
   ]
  },
  {
   "cell_type": "code",
   "execution_count": 20,
   "metadata": {},
   "outputs": [
    {
     "name": "stdout",
     "output_type": "stream",
     "text": [
      "Kernel = rbf, Penalty = 0.01, Test accuracy = 51.59 %\n"
     ]
    }
   ],
   "source": [
    "penalty = 0.01\n",
    "\n",
    "svm = SVC(C=penalty, kernel=\"rbf\", probability=True)\n",
    "svm.fit(x_train_std, y_train)\n",
    "  \n",
    "acc_rate = accuracy_score(y_test, svm.predict(x_test_std))*100\n",
    "print(\"Kernel = rbf, Penalty = %.2f, Test accuracy = %.2f %%\" % (penalty, acc_rate))"
   ]
  },
  {
   "cell_type": "code",
   "execution_count": 21,
   "metadata": {},
   "outputs": [
    {
     "name": "stdout",
     "output_type": "stream",
     "text": [
      "Kernel = sigmoid, Penalty = 0.01, Test accuracy = 51.59 %\n"
     ]
    }
   ],
   "source": [
    "penalty = 0.01\n",
    "\n",
    "svm = SVC(C=penalty, kernel=\"sigmoid\", probability=True)\n",
    "svm.fit(x_train_std, y_train)\n",
    "  \n",
    "acc_rate = accuracy_score(y_test, svm.predict(x_test_std))*100\n",
    "print(\"Kernel = sigmoid, Penalty = %.2f, Test accuracy = %.2f %%\" % (penalty, acc_rate))"
   ]
  },
  {
   "cell_type": "markdown",
   "metadata": {},
   "source": [
    "### try to improve accuracy by penalty\n",
    "* penalty越大，容錯率越低\n",
    "* penalty越小，容錯率越高"
   ]
  },
  {
   "cell_type": "code",
   "execution_count": 22,
   "metadata": {},
   "outputs": [
    {
     "name": "stdout",
     "output_type": "stream",
     "text": [
      "Penalty = 1.00, Test accuracy = 51.59 %\n",
      "Penalty = 2.00, Test accuracy = 51.59 %\n",
      "Penalty = 3.00, Test accuracy = 51.59 %\n",
      "Penalty = 4.00, Test accuracy = 52.38 %\n",
      "Penalty = 5.00, Test accuracy = 54.37 %\n",
      "Penalty = 6.00, Test accuracy = 53.17 %\n",
      "Penalty = 7.00, Test accuracy = 55.56 %\n",
      "Penalty = 8.00, Test accuracy = 57.54 %\n",
      "Penalty = 9.00, Test accuracy = 57.14 %\n",
      "Penalty = 10.00, Test accuracy = 55.56 %\n"
     ]
    }
   ],
   "source": [
    "from sklearn.svm import SVC\n",
    "from sklearn.metrics import accuracy_score\n",
    "\n",
    "for x in range(1, 11):\n",
    "    penalty = x\n",
    "\n",
    "    svm = SVC(C=penalty, kernel=\"rbf\", probability=True)\n",
    "    svm.fit(x_train_std, y_train)\n",
    "  \n",
    "    acc_rate = accuracy_score(y_test, svm.predict(x_test_std))*100\n",
    "    print(\"Penalty = %.2f, Test accuracy = %.2f %%\" % (penalty, acc_rate))"
   ]
  },
  {
   "cell_type": "markdown",
   "metadata": {},
   "source": [
    "發現當 Penalty=8 時，accuracy達到最高，縮小範圍至8.1~9.0"
   ]
  },
  {
   "cell_type": "code",
   "execution_count": 23,
   "metadata": {},
   "outputs": [
    {
     "name": "stdout",
     "output_type": "stream",
     "text": [
      "Penalty = 8.10, Test accuracy = 57.14 %\n",
      "Penalty = 8.20, Test accuracy = 57.54 %\n",
      "Penalty = 8.30, Test accuracy = 57.54 %\n",
      "Penalty = 8.40, Test accuracy = 57.94 %\n",
      "Penalty = 8.50, Test accuracy = 57.94 %\n",
      "Penalty = 8.60, Test accuracy = 58.73 %\n",
      "Penalty = 8.70, Test accuracy = 58.73 %\n",
      "Penalty = 8.80, Test accuracy = 58.33 %\n",
      "Penalty = 8.90, Test accuracy = 57.14 %\n",
      "Penalty = 9.00, Test accuracy = 57.14 %\n"
     ]
    }
   ],
   "source": [
    "for x in range(1, 11):\n",
    "    penalty = 8+x*0.1\n",
    "    \n",
    "    svm = SVC(C=penalty, kernel=\"rbf\", probability=True)\n",
    "    svm.fit(x_train_std, y_train)\n",
    "  \n",
    "    acc_rate = accuracy_score(y_test, svm.predict(x_test_std))*100\n",
    "    print(\"Penalty = %.2f, Test accuracy = %.2f %%\" % (penalty, acc_rate))"
   ]
  },
  {
   "cell_type": "markdown",
   "metadata": {},
   "source": [
    "發現當 penalty=8.6~8.7 時，accuracy達到最高，縮小範圍至8.61~8.70"
   ]
  },
  {
   "cell_type": "code",
   "execution_count": 24,
   "metadata": {},
   "outputs": [
    {
     "name": "stdout",
     "output_type": "stream",
     "text": [
      "Penalty = 8.61, Test accuracy = 58.73 %\n",
      "Penalty = 8.62, Test accuracy = 58.73 %\n",
      "Penalty = 8.63, Test accuracy = 58.73 %\n",
      "Penalty = 8.64, Test accuracy = 58.73 %\n",
      "Penalty = 8.65, Test accuracy = 58.73 %\n",
      "Penalty = 8.66, Test accuracy = 58.73 %\n",
      "Penalty = 8.67, Test accuracy = 58.73 %\n",
      "Penalty = 8.68, Test accuracy = 58.73 %\n",
      "Penalty = 8.69, Test accuracy = 58.73 %\n",
      "Penalty = 8.70, Test accuracy = 58.73 %\n"
     ]
    }
   ],
   "source": [
    "for x in range(1, 11):\n",
    "    penalty = 8.6+x*0.01\n",
    "    \n",
    "    svm = SVC(C=penalty, kernel=\"rbf\", probability=True)\n",
    "    svm.fit(x_train_std, y_train)\n",
    "  \n",
    "    acc_rate = accuracy_score(y_test, svm.predict(x_test_std))*100\n",
    "    print(\"Penalty = %.2f, Test accuracy = %.2f %%\" % (penalty, acc_rate))"
   ]
  },
  {
   "cell_type": "markdown",
   "metadata": {},
   "source": [
    "發現當Penalty在8.61~8.7之間accuracy最大，所以set penalty=8.7"
   ]
  },
  {
   "cell_type": "code",
   "execution_count": 25,
   "metadata": {},
   "outputs": [
    {
     "name": "stdout",
     "output_type": "stream",
     "text": [
      "Penalty = 8.70, Test accuracy = 58.73 %\n"
     ]
    }
   ],
   "source": [
    "penalty = 8.7\n",
    "\n",
    "svm = SVC(C=penalty, kernel=\"rbf\", probability=True)\n",
    "svm.fit(x_train_std, y_train)\n",
    "  \n",
    "acc_rate = accuracy_score(y_test, svm.predict(x_test_std))*100\n",
    "print(\"Penalty = %.2f, Test accuracy = %.2f %%\" % (penalty, acc_rate))"
   ]
  },
  {
   "cell_type": "markdown",
   "metadata": {},
   "source": [
    "## 3. use Neural Network to predict"
   ]
  },
  {
   "cell_type": "code",
   "execution_count": 26,
   "metadata": {},
   "outputs": [
    {
     "name": "stderr",
     "output_type": "stream",
     "text": [
      "Using TensorFlow backend.\n"
     ]
    }
   ],
   "source": [
    "import tensorflow\n",
    "from keras import models, layers, optimizers, regularizers\n",
    "from sklearn import preprocessing"
   ]
  },
  {
   "cell_type": "markdown",
   "metadata": {},
   "source": [
    "### try to use one hidden layer(20 units) and Adam optimizer\n",
    "The loss history looks weird..."
   ]
  },
  {
   "cell_type": "code",
   "execution_count": 27,
   "metadata": {},
   "outputs": [
    {
     "name": "stdout",
     "output_type": "stream",
     "text": [
      "WARNING:tensorflow:From /home/chienchia/anaconda3/lib/python3.7/site-packages/tensorflow/python/framework/op_def_library.py:263: colocate_with (from tensorflow.python.framework.ops) is deprecated and will be removed in a future version.\n",
      "Instructions for updating:\n",
      "Colocations handled automatically by placer.\n",
      "WARNING:tensorflow:From /home/chienchia/anaconda3/lib/python3.7/site-packages/tensorflow/python/ops/math_ops.py:3066: to_int32 (from tensorflow.python.ops.math_ops) is deprecated and will be removed in a future version.\n",
      "Instructions for updating:\n",
      "Use tf.cast instead.\n",
      "Epoch 1/10\n",
      "2264/2264 [==============================] - 1s 282us/step - loss: 0.7610 - acc: 0.5428\n",
      "Epoch 2/10\n",
      "2264/2264 [==============================] - 0s 83us/step - loss: 0.7555 - acc: 0.5459\n",
      "Epoch 3/10\n",
      "2264/2264 [==============================] - 0s 89us/step - loss: 0.7551 - acc: 0.5459\n",
      "Epoch 4/10\n",
      "2264/2264 [==============================] - 0s 75us/step - loss: 0.7541 - acc: 0.5459\n",
      "Epoch 5/10\n",
      "2264/2264 [==============================] - 0s 83us/step - loss: 0.7521 - acc: 0.5459\n",
      "Epoch 6/10\n",
      "2264/2264 [==============================] - 0s 53us/step - loss: 0.7528 - acc: 0.5459\n",
      "Epoch 7/10\n",
      "2264/2264 [==============================] - 0s 62us/step - loss: 0.7508 - acc: 0.5459\n",
      "Epoch 8/10\n",
      "2264/2264 [==============================] - 0s 114us/step - loss: 0.7523 - acc: 0.5459\n",
      "Epoch 9/10\n",
      "2264/2264 [==============================] - 0s 74us/step - loss: 0.7521 - acc: 0.5459\n",
      "Epoch 10/10\n",
      "2264/2264 [==============================] - 0s 59us/step - loss: 0.7525 - acc: 0.5459\n",
      "252/252 [==============================] - 0s 808us/step\n",
      "Test accuracy = 51.59 %\n"
     ]
    },
    {
     "data": {
      "image/png": "[encoded data removed]",
      "text/plain": [
       "<Figure size 432x288 with 1 Axes>"
      ]
     },
     "metadata": {
      "needs_background": "light"
     },
     "output_type": "display_data"
    }
   ],
   "source": [
    "hidden_units = 20\n",
    "activation = 'relu'\n",
    "learning_rate = 0.01\n",
    "batch_size = 32\n",
    "class_weight = {\n",
    "    0: 1,\n",
    "    1: 1236 / 1028\n",
    "}\n",
    "\n",
    "model = models.Sequential()\n",
    "\n",
    "model.add(layers.Dense(input_dim=3,\n",
    "                       units=hidden_units,\n",
    "                       activation=activation))\n",
    "\n",
    "model.add(layers.Dense(input_dim=hidden_units,\n",
    "                       units=1,\n",
    "                       activation='sigmoid'))\n",
    "\n",
    "model.compile(loss='binary_crossentropy',\n",
    "              optimizer=optimizers.Adam(lr=learning_rate),\n",
    "              metrics=['accuracy'])\n",
    "\n",
    "history = model.fit(x_train_std,\n",
    "                    y_train,\n",
    "                    epochs=10,\n",
    "                    batch_size=batch_size,\n",
    "                    class_weight=class_weight)\n",
    "\n",
    "test_acc = model.evaluate(x_test_std, y_test, batch_size=32)[1]*100\n",
    "print(\"Test accuracy = %.2f %%\" % (test_acc))\n",
    "\n",
    "losses = history.history['loss']\n",
    "plt.plot(range(len(losses)), losses, 'r')\n",
    "plt.show()"
   ]
  },
  {
   "cell_type": "markdown",
   "metadata": {},
   "source": [
    "### with same layers, but using SGD optimizer\n",
    "The loss history looks better, but the accuracy doesn't improve."
   ]
  },
  {
   "cell_type": "code",
   "execution_count": 28,
   "metadata": {},
   "outputs": [
    {
     "name": "stdout",
     "output_type": "stream",
     "text": [
      "Epoch 1/10\n",
      "2264/2264 [==============================] - 1s 230us/step - loss: 0.8455 - acc: 0.5035\n",
      "Epoch 2/10\n",
      "2264/2264 [==============================] - 0s 74us/step - loss: 0.7629 - acc: 0.5327\n",
      "Epoch 3/10\n",
      "2264/2264 [==============================] - 0s 152us/step - loss: 0.7529 - acc: 0.5437\n",
      "Epoch 4/10\n",
      "2264/2264 [==============================] - 0s 89us/step - loss: 0.7517 - acc: 0.5459\n",
      "Epoch 5/10\n",
      "2264/2264 [==============================] - 0s 84us/step - loss: 0.7515 - acc: 0.5459\n",
      "Epoch 6/10\n",
      "2264/2264 [==============================] - 0s 39us/step - loss: 0.7515 - acc: 0.5459\n",
      "Epoch 7/10\n",
      "2264/2264 [==============================] - 0s 69us/step - loss: 0.7514 - acc: 0.5459\n",
      "Epoch 8/10\n",
      "2264/2264 [==============================] - 0s 60us/step - loss: 0.7514 - acc: 0.5459\n",
      "Epoch 9/10\n",
      "2264/2264 [==============================] - 0s 64us/step - loss: 0.7514 - acc: 0.5459\n",
      "Epoch 10/10\n",
      "2264/2264 [==============================] - 0s 67us/step - loss: 0.7515 - acc: 0.5459\n",
      "252/252 [==============================] - 0s 783us/step\n",
      "Test accuracy = 51.59 %\n"
     ]
    },
    {
     "data": {
      "image/png": "[encoded data removed]",
      "text/plain": [
       "<Figure size 432x288 with 1 Axes>"
      ]
     },
     "metadata": {
      "needs_background": "light"
     },
     "output_type": "display_data"
    }
   ],
   "source": [
    "hidden_units = 20\n",
    "activation = 'relu'\n",
    "learning_rate = 0.01\n",
    "batch_size = 32\n",
    "class_weight = {\n",
    "    0: 1,\n",
    "    1: 1236 / 1028\n",
    "}\n",
    "\n",
    "model = models.Sequential()\n",
    "\n",
    "model.add(layers.Dense(input_dim=3,\n",
    "                       units=hidden_units,\n",
    "                       activation=activation))\n",
    "\n",
    "model.add(layers.Dense(input_dim=hidden_units,\n",
    "                       units=1,\n",
    "                       activation='sigmoid'))\n",
    "\n",
    "model.compile(loss='binary_crossentropy',\n",
    "              optimizer=optimizers.SGD(lr=learning_rate),\n",
    "              metrics=['accuracy'])\n",
    "\n",
    "history = model.fit(x_train_std,\n",
    "                    y_train,\n",
    "                    epochs=10,\n",
    "                    batch_size=batch_size,\n",
    "                    class_weight=class_weight)\n",
    "\n",
    "test_acc = model.evaluate(x_test_std, y_test, batch_size=32)[1]*100\n",
    "print(\"Test accuracy = %.2f %%\" % (test_acc))\n",
    "\n",
    "losses = history.history['loss']\n",
    "plt.plot(range(len(losses)), losses, 'r')\n",
    "plt.show()"
   ]
  },
  {
   "cell_type": "markdown",
   "metadata": {},
   "source": [
    "### try to use two hidden layer(20 units) and SGD optimizer\n",
    "It doesn't work, the accuracy remains."
   ]
  },
  {
   "cell_type": "code",
   "execution_count": 29,
   "metadata": {},
   "outputs": [
    {
     "name": "stdout",
     "output_type": "stream",
     "text": [
      "Epoch 1/10\n",
      "2264/2264 [==============================] - 1s 249us/step - loss: 0.7581 - acc: 0.5459\n",
      "Epoch 2/10\n",
      "2264/2264 [==============================] - 0s 64us/step - loss: 0.7558 - acc: 0.5459\n",
      "Epoch 3/10\n",
      "2264/2264 [==============================] - 0s 68us/step - loss: 0.7547 - acc: 0.5459\n",
      "Epoch 4/10\n",
      "2264/2264 [==============================] - 0s 67us/step - loss: 0.7542 - acc: 0.5459\n",
      "Epoch 5/10\n",
      "2264/2264 [==============================] - 0s 99us/step - loss: 0.7539 - acc: 0.5459\n",
      "Epoch 6/10\n",
      "2264/2264 [==============================] - 0s 100us/step - loss: 0.7536 - acc: 0.5459\n",
      "Epoch 7/10\n",
      "2264/2264 [==============================] - 0s 152us/step - loss: 0.7534 - acc: 0.5459\n",
      "Epoch 8/10\n",
      "2264/2264 [==============================] - 0s 70us/step - loss: 0.7532 - acc: 0.5459\n",
      "Epoch 9/10\n",
      "2264/2264 [==============================] - 0s 69us/step - loss: 0.7529 - acc: 0.5459\n",
      "Epoch 10/10\n",
      "2264/2264 [==============================] - 0s 83us/step - loss: 0.7528 - acc: 0.5459\n",
      "252/252 [==============================] - 0s 630us/step\n",
      "Test accuracy = 51.59 %\n"
     ]
    },
    {
     "data": {
      "image/png": "[encoded data removed]",
      "text/plain": [
       "<Figure size 432x288 with 1 Axes>"
      ]
     },
     "metadata": {
      "needs_background": "light"
     },
     "output_type": "display_data"
    }
   ],
   "source": [
    "hidden_units = 20\n",
    "activation = 'relu'\n",
    "learning_rate = 0.01\n",
    "batch_size = 32\n",
    "class_weight = {\n",
    "    0: 1,\n",
    "    1: 1236 / 1028\n",
    "}\n",
    "\n",
    "model = models.Sequential()\n",
    "\n",
    "model.add(layers.Dense(input_dim=3,\n",
    "                       units=hidden_units,\n",
    "                       activation=activation))\n",
    "\n",
    "model.add(layers.Dense(input_dim=hidden_units,\n",
    "                       units=hidden_units,\n",
    "                       activation=activation))\n",
    "\n",
    "model.add(layers.Dense(input_dim=hidden_units,\n",
    "                       units=1,\n",
    "                       activation='sigmoid'))\n",
    "\n",
    "model.compile(loss='binary_crossentropy',\n",
    "              optimizer=optimizers.SGD(lr=learning_rate),\n",
    "              metrics=['accuracy'])\n",
    "\n",
    "history = model.fit(x_train_std,\n",
    "                    y_train,\n",
    "                    epochs=10,\n",
    "                    batch_size=batch_size,\n",
    "                    class_weight=class_weight)\n",
    "\n",
    "test_acc = model.evaluate(x_test_std, y_test, batch_size=32)[1]*100\n",
    "print(\"Test accuracy = %.2f %%\" % (test_acc))\n",
    "\n",
    "losses = history.history['loss']\n",
    "plt.plot(range(len(losses)), losses, 'r')\n",
    "plt.show()"
   ]
  },
  {
   "cell_type": "markdown",
   "metadata": {},
   "source": [
    "## Discussion"
   ]
  },
  {
   "cell_type": "markdown",
   "metadata": {},
   "source": [
    "### Logistic Regression, SVM, NN預測出來的結果準確率幾乎都差不多\n",
    "* 推測可能原因為股票漲跌可能會受到很多因素影響，如：公司盈虧、公司財報、公司營運...等\n",
    "* 現在也還沒有人可以準確預測股票漲跌，而這次作業的dataset attributes過少更難去預測股票的漲跌"
   ]
  },
  {
   "cell_type": "markdown",
   "metadata": {},
   "source": [
    "## Another Dataset\n",
    "use Titanic Dataset: https://www.kaggle.com/c/titanic/data\n",
    "\n",
    "use the dataset to implment Logistic Regression, SVM and Neural Network"
   ]
  },
  {
   "cell_type": "markdown",
   "metadata": {},
   "source": [
    "### Load Data"
   ]
  },
  {
   "cell_type": "code",
   "execution_count": 30,
   "metadata": {},
   "outputs": [
    {
     "data": {
      "text/html": [
       "<div>\n",
       "<style scoped>\n",
       "    .dataframe tbody tr th:only-of-type {\n",
       "        vertical-align: middle;\n",
       "    }\n",
       "\n",
       "    .dataframe tbody tr th {\n",
       "        vertical-align: top;\n",
       "    }\n",
       "\n",
       "    .dataframe thead th {\n",
       "        text-align: right;\n",
       "    }\n",
       "</style>\n",
       "<table border=\"1\" class=\"dataframe\">\n",
       "  <thead>\n",
       "    <tr style=\"text-align: right;\">\n",
       "      <th></th>\n",
       "      <th>PassengerId</th>\n",
       "      <th>Survived</th>\n",
       "      <th>Pclass</th>\n",
       "      <th>Name</th>\n",
       "      <th>Sex</th>\n",
       "      <th>Age</th>\n",
       "      <th>SibSp</th>\n",
       "      <th>Parch</th>\n",
       "      <th>Ticket</th>\n",
       "      <th>Fare</th>\n",
       "      <th>Cabin</th>\n",
       "      <th>Embarked</th>\n",
       "    </tr>\n",
       "  </thead>\n",
       "  <tbody>\n",
       "    <tr>\n",
       "      <th>0</th>\n",
       "      <td>1</td>\n",
       "      <td>0</td>\n",
       "      <td>3</td>\n",
       "      <td>Braund, Mr. Owen Harris</td>\n",
       "      <td>male</td>\n",
       "      <td>22.0</td>\n",
       "      <td>1</td>\n",
       "      <td>0</td>\n",
       "      <td>A/5 21171</td>\n",
       "      <td>7.2500</td>\n",
       "      <td>NaN</td>\n",
       "      <td>S</td>\n",
       "    </tr>\n",
       "    <tr>\n",
       "      <th>1</th>\n",
       "      <td>2</td>\n",
       "      <td>1</td>\n",
       "      <td>1</td>\n",
       "      <td>Cumings, Mrs. John Bradley (Florence Briggs Th...</td>\n",
       "      <td>female</td>\n",
       "      <td>38.0</td>\n",
       "      <td>1</td>\n",
       "      <td>0</td>\n",
       "      <td>PC 17599</td>\n",
       "      <td>71.2833</td>\n",
       "      <td>C85</td>\n",
       "      <td>C</td>\n",
       "    </tr>\n",
       "    <tr>\n",
       "      <th>2</th>\n",
       "      <td>3</td>\n",
       "      <td>1</td>\n",
       "      <td>3</td>\n",
       "      <td>Heikkinen, Miss. Laina</td>\n",
       "      <td>female</td>\n",
       "      <td>26.0</td>\n",
       "      <td>0</td>\n",
       "      <td>0</td>\n",
       "      <td>STON/O2. 3101282</td>\n",
       "      <td>7.9250</td>\n",
       "      <td>NaN</td>\n",
       "      <td>S</td>\n",
       "    </tr>\n",
       "  </tbody>\n",
       "</table>\n",
       "</div>"
      ],
      "text/plain": [
       "   PassengerId  Survived  Pclass  \\\n",
       "0            1         0       3   \n",
       "1            2         1       1   \n",
       "2            3         1       3   \n",
       "\n",
       "                                                Name     Sex   Age  SibSp  \\\n",
       "0                            Braund, Mr. Owen Harris    male  22.0      1   \n",
       "1  Cumings, Mrs. John Bradley (Florence Briggs Th...  female  38.0      1   \n",
       "2                             Heikkinen, Miss. Laina  female  26.0      0   \n",
       "\n",
       "   Parch            Ticket     Fare Cabin Embarked  \n",
       "0      0         A/5 21171   7.2500   NaN        S  \n",
       "1      0          PC 17599  71.2833   C85        C  \n",
       "2      0  STON/O2. 3101282   7.9250   NaN        S  "
      ]
     },
     "execution_count": 30,
     "metadata": {},
     "output_type": "execute_result"
    }
   ],
   "source": [
    "df = pd.read_csv(u'./Titanic_train.csv')\n",
    "df.head(3)"
   ]
  },
  {
   "cell_type": "markdown",
   "metadata": {},
   "source": [
    "### Preprocess training Data"
   ]
  },
  {
   "cell_type": "code",
   "execution_count": 31,
   "metadata": {},
   "outputs": [
    {
     "data": {
      "text/html": [
       "<div>\n",
       "<style scoped>\n",
       "    .dataframe tbody tr th:only-of-type {\n",
       "        vertical-align: middle;\n",
       "    }\n",
       "\n",
       "    .dataframe tbody tr th {\n",
       "        vertical-align: top;\n",
       "    }\n",
       "\n",
       "    .dataframe thead th {\n",
       "        text-align: right;\n",
       "    }\n",
       "</style>\n",
       "<table border=\"1\" class=\"dataframe\">\n",
       "  <thead>\n",
       "    <tr style=\"text-align: right;\">\n",
       "      <th></th>\n",
       "      <th>Survived</th>\n",
       "      <th>Pclass</th>\n",
       "      <th>Sex</th>\n",
       "      <th>Age</th>\n",
       "      <th>SibSp</th>\n",
       "      <th>Parch</th>\n",
       "    </tr>\n",
       "  </thead>\n",
       "  <tbody>\n",
       "    <tr>\n",
       "      <th>0</th>\n",
       "      <td>0</td>\n",
       "      <td>3</td>\n",
       "      <td>1</td>\n",
       "      <td>22.0</td>\n",
       "      <td>1</td>\n",
       "      <td>0</td>\n",
       "    </tr>\n",
       "    <tr>\n",
       "      <th>1</th>\n",
       "      <td>1</td>\n",
       "      <td>1</td>\n",
       "      <td>0</td>\n",
       "      <td>38.0</td>\n",
       "      <td>1</td>\n",
       "      <td>0</td>\n",
       "    </tr>\n",
       "    <tr>\n",
       "      <th>2</th>\n",
       "      <td>1</td>\n",
       "      <td>3</td>\n",
       "      <td>0</td>\n",
       "      <td>26.0</td>\n",
       "      <td>0</td>\n",
       "      <td>0</td>\n",
       "    </tr>\n",
       "  </tbody>\n",
       "</table>\n",
       "</div>"
      ],
      "text/plain": [
       "   Survived  Pclass  Sex   Age  SibSp  Parch\n",
       "0         0       3    1  22.0      1      0\n",
       "1         1       1    0  38.0      1      0\n",
       "2         1       3    0  26.0      0      0"
      ]
     },
     "execution_count": 31,
     "metadata": {},
     "output_type": "execute_result"
    }
   ],
   "source": [
    "# drop useless attributes\n",
    "df = df.drop(['PassengerId'], axis = 1)\n",
    "df = df.drop(['Name'], axis = 1)\n",
    "df = df.drop(['Ticket'], axis = 1)\n",
    "df = df.drop(['Fare'], axis = 1)\n",
    "df = df.drop(['Cabin'], axis = 1)\n",
    "df = df.drop(['Embarked'], axis = 1)\n",
    "\n",
    "# fill average age to null\n",
    "age = df['Age']\n",
    "average = age.sum(axis = 0, skipna = True) /len(age)\n",
    "df['Age'].fillna(average, inplace = True)\n",
    "\n",
    "# convert sex into binary(male:1, femal:0)\n",
    "sex_map = {'female' : 0, 'male' :1}\n",
    "df['Sex'] = df['Sex'].map(sex_map)\n",
    "\n",
    "df.head(3)"
   ]
  },
  {
   "cell_type": "markdown",
   "metadata": {},
   "source": [
    "### split training data and test data"
   ]
  },
  {
   "cell_type": "code",
   "execution_count": 32,
   "metadata": {},
   "outputs": [],
   "source": [
    "x_train = df[:700]\n",
    "x_test = df[700:]"
   ]
  },
  {
   "cell_type": "markdown",
   "metadata": {},
   "source": [
    "### split x_train, y_train and x_test, y_test "
   ]
  },
  {
   "cell_type": "code",
   "execution_count": 33,
   "metadata": {},
   "outputs": [],
   "source": [
    "y_train = x_train['Survived']\n",
    "x_train = x_train.drop(['Survived'], axis = 1)\n",
    "\n",
    "y_test = x_test['Survived']\n",
    "x_test = x_test.drop(['Survived'], axis=1)"
   ]
  },
  {
   "cell_type": "markdown",
   "metadata": {},
   "source": [
    "### standarize the data"
   ]
  },
  {
   "cell_type": "code",
   "execution_count": 34,
   "metadata": {},
   "outputs": [
    {
     "name": "stderr",
     "output_type": "stream",
     "text": [
      "/home/chienchia/anaconda3/lib/python3.7/site-packages/sklearn/preprocessing/data.py:625: DataConversionWarning: Data with input dtype int64, float64 were all converted to float64 by StandardScaler.\n",
      "  return self.partial_fit(X, y)\n",
      "/home/chienchia/anaconda3/lib/python3.7/site-packages/ipykernel_launcher.py:4: DataConversionWarning: Data with input dtype int64, float64 were all converted to float64 by StandardScaler.\n",
      "  after removing the cwd from sys.path.\n",
      "/home/chienchia/anaconda3/lib/python3.7/site-packages/ipykernel_launcher.py:5: DataConversionWarning: Data with input dtype int64, float64 were all converted to float64 by StandardScaler.\n",
      "  \"\"\"\n"
     ]
    }
   ],
   "source": [
    "scaler = StandardScaler()\n",
    "scaler.fit(x_train)\n",
    "\n",
    "x_train_std = scaler.transform(x_train)\n",
    "x_test_std = scaler.transform(x_test)"
   ]
  },
  {
   "cell_type": "markdown",
   "metadata": {},
   "source": [
    "## 1. Logistic Regression"
   ]
  },
  {
   "cell_type": "code",
   "execution_count": 35,
   "metadata": {},
   "outputs": [
    {
     "name": "stdout",
     "output_type": "stream",
     "text": [
      "Test accuracy: 80.63 %\n"
     ]
    }
   ],
   "source": [
    "clf = LogisticRegression(random_state=0, solver='liblinear').fit(x_train_std, y_train)\n",
    "\n",
    "test_std_preds = clf.predict(x_test_std)\n",
    "test_acc = accuracy_score(y_test, test_std_preds)*100\n",
    "print('Test accuracy: %.2f %%' % test_acc)"
   ]
  },
  {
   "cell_type": "markdown",
   "metadata": {},
   "source": [
    "## 2. SVM"
   ]
  },
  {
   "cell_type": "code",
   "execution_count": 36,
   "metadata": {},
   "outputs": [
    {
     "name": "stdout",
     "output_type": "stream",
     "text": [
      "Penalty = 0.01, Test accuracy = 79.06 %\n"
     ]
    }
   ],
   "source": [
    "penalty = 0.01\n",
    "\n",
    "svm = SVC(C=penalty, kernel=\"linear\", probability=True)\n",
    "svm.fit(x_train_std, y_train)\n",
    "  \n",
    "acc_rate = accuracy_score(y_test, svm.predict(x_test_std))*100\n",
    "print(\"Penalty = %.2f, Test accuracy = %.2f %%\" % (penalty, acc_rate))"
   ]
  },
  {
   "cell_type": "markdown",
   "metadata": {},
   "source": [
    "## 3. Neural Network(2 hidden layers)"
   ]
  },
  {
   "cell_type": "code",
   "execution_count": 40,
   "metadata": {},
   "outputs": [
    {
     "name": "stdout",
     "output_type": "stream",
     "text": [
      "Epoch 1/10\n",
      "700/700 [==============================] - 1s 757us/step - loss: 0.7615 - acc: 0.5143\n",
      "Epoch 2/10\n",
      "700/700 [==============================] - 0s 89us/step - loss: 0.7254 - acc: 0.6100\n",
      "Epoch 3/10\n",
      "700/700 [==============================] - 0s 61us/step - loss: 0.7002 - acc: 0.6400\n",
      "Epoch 4/10\n",
      "700/700 [==============================] - 0s 73us/step - loss: 0.6818 - acc: 0.6700\n",
      "Epoch 5/10\n",
      "700/700 [==============================] - 0s 79us/step - loss: 0.6673 - acc: 0.7014\n",
      "Epoch 6/10\n",
      "700/700 [==============================] - 0s 114us/step - loss: 0.6560 - acc: 0.7300\n",
      "Epoch 7/10\n",
      "700/700 [==============================] - 0s 116us/step - loss: 0.6466 - acc: 0.7486\n",
      "Epoch 8/10\n",
      "700/700 [==============================] - 0s 93us/step - loss: 0.6386 - acc: 0.7771\n",
      "Epoch 9/10\n",
      "700/700 [==============================] - 0s 105us/step - loss: 0.6314 - acc: 0.7943\n",
      "Epoch 10/10\n",
      "700/700 [==============================] - 0s 117us/step - loss: 0.6252 - acc: 0.7986\n",
      "191/191 [==============================] - 0s 1ms/step\n",
      "Test accuracy = 80.63 %\n"
     ]
    },
    {
     "data": {
      "image/png": "[encoded data removed]",
      "text/plain": [
       "<Figure size 432x288 with 1 Axes>"
      ]
     },
     "metadata": {
      "needs_background": "light"
     },
     "output_type": "display_data"
    }
   ],
   "source": [
    "hidden_units = 20\n",
    "activation = 'relu'\n",
    "learning_rate = 0.01\n",
    "batch_size = 32\n",
    "class_weight = {\n",
    "    0: 1,\n",
    "    1: 1236 / 1028\n",
    "}\n",
    "\n",
    "model = models.Sequential()\n",
    "\n",
    "model.add(layers.Dense(input_dim=5,\n",
    "                       units=hidden_units,\n",
    "                       activation=activation))\n",
    "\n",
    "model.add(layers.Dense(input_dim=hidden_units,\n",
    "                       units=hidden_units,\n",
    "                       activation=activation))\n",
    "\n",
    "model.add(layers.Dense(input_dim=hidden_units,\n",
    "                       units=1,\n",
    "                       activation='sigmoid'))\n",
    "\n",
    "model.compile(loss='binary_crossentropy',\n",
    "              optimizer=optimizers.SGD(lr=learning_rate),\n",
    "              metrics=['accuracy'])\n",
    "\n",
    "history = model.fit(x_train_std,\n",
    "                    y_train,\n",
    "                    epochs=10,\n",
    "                    batch_size=batch_size,\n",
    "                    class_weight=class_weight)\n",
    "\n",
    "test_acc = model.evaluate(x_test_std, y_test, batch_size=32)[1]*100\n",
    "print(\"Test accuracy = %.2f %%\" % (test_acc))\n",
    "\n",
    "losses = history.history['loss']\n",
    "plt.plot(range(len(losses)), losses, 'r')\n",
    "plt.show()"
   ]
  },
  {
   "cell_type": "markdown",
   "metadata": {},
   "source": [
    "## Discussion"
   ]
  },
  {
   "cell_type": "markdown",
   "metadata": {},
   "source": [
    "### 使用Titanic dataset得出來的accuracy比較高\n",
    "* 因為Titanic的attributes比股票的attributes更能有效的做預測\n",
    "* Titanic的Attributes跟Survived的關聯性較高，而預測股票漲跌的attributes關聯性較低，還有許多外在因素會影響股票的漲跌，所以股票的accuracy會比較低"
   ]
  },
  {
   "cell_type": "markdown",
   "metadata": {},
   "source": [
    "### 2個dataset預測出的準確度皆為Neural Network最高\n",
    "* 因為Neural Network可以設很多layer，每個layer的unit又可以設很多個，所以model學習力最強，預測出來的結果會最高"
   ]
  }
 ],
 "metadata": {
  "kernelspec": {
   "display_name": "Python 3",
   "language": "python",
   "name": "python3"
  },
  "language_info": {
   "codemirror_mode": {
    "name": "ipython",
    "version": 3
   },
   "file_extension": ".py",
   "mimetype": "text/x-python",
   "name": "python",
   "nbconvert_exporter": "python",
   "pygments_lexer": "ipython3",
   "version": "3.7.1"
  }
 },
 "nbformat": 4,
 "nbformat_minor": 2
}
